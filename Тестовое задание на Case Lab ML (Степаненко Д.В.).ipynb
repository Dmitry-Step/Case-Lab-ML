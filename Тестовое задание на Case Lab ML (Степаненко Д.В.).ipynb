{
 "cells": [
  {
   "cell_type": "markdown",
   "id": "1734e44e-b989-4cc4-86cd-c3dd1e6f6c18",
   "metadata": {},
   "source": [
    "### Степаненко Дмитрий Владимирович, тестовое задание в Case Lab ML (АО \"Гринатом\")"
   ]
  },
  {
   "cell_type": "markdown",
   "id": "9ff3ee53-731c-4fb4-be3b-e7afb5afcbed",
   "metadata": {},
   "source": [
    "В рамках тестового задания предлагается разработать веб-сервис для оценки комментариев (отзывов) к фильмам."
   ]
  },
  {
   "cell_type": "markdown",
   "id": "3bcbab56-b1de-4b28-b2b6-e2b4fa8f5fdc",
   "metadata": {},
   "source": [
    "Рассмотрим датасет IMDB из Stanford\n",
    "https://ai.stanford.edu/~amaas/data/sentiment/\n",
    "\n",
    "Более подробное описание структуры файлов данных, а также сами данные можно найти по ссылке: https://ai.stanford.edu/~amaas/data/sentiment/aclImdb_v1.tar.gz\n",
    "\n",
    "Методология описана в статье:\n",
    "https://ai.stanford.edu/~amaas/papers/wvSent_acl2011.pdf"
   ]
  },
  {
   "cell_type": "markdown",
   "id": "0548b811-41e9-434a-ae98-602d313977b3",
   "metadata": {},
   "source": [
    "### 0. Introduction."
   ]
  },
  {
   "cell_type": "markdown",
   "id": "1f7a0942-b98f-4c12-af40-0513e8cd1601",
   "metadata": {},
   "source": [
    "##### C веб-сервисами, в целом, и с реализацией на базе фреймворка Django, в частности, знаком поверхностно в обзорном формате, поэтому попробуем разработать в Jupyter Notebook \"сервис для ввода отзыва о фильме с автоматическим присвоением рейтинга (от 1 до 10) и статуса комментария (положительный или отрицательный)\"."
   ]
  },
  {
   "cell_type": "markdown",
   "id": "2e944cee-7f2b-4332-b089-6e719a3ebc4f",
   "metadata": {},
   "source": [
    "Цель — создать модель машинного обучения, которая будет предсказывать рейтинг и классифицировать отзыв как положительный или отрицательный."
   ]
  },
  {
   "cell_type": "markdown",
   "id": "8855e3f2-5d9e-4ed9-806e-ff78491fbe67",
   "metadata": {},
   "source": [
    "##### Шаги:\n",
    "\n",
    "1. Загрузка и подготовка данных:\n",
    "    - загрузим данные по ссылке, а затем разархивируем их;\n",
    "    - подготовим текстовые данные для модели (очистка данных, токенизация и приведение к необходимому формату).\n",
    "2. Обучение модели классификации:\n",
    "    - построим модель классификации с помощью библиотеки scikit-learn или tensorflow/keras;\n",
    "    - в качестве метки для классификации используем \"положительный/отрицательный\" отзыв;\n",
    "    - для оценки (рейтинг от 1 до 10) можно взять предсказания регрессии на основе тональности текста.\n",
    "3. Реализация сервиса: мспользуем Jupyter для создания простой формы ввода отзыва, и на выходе будем отображать предсказанную оценку и статус (положительный или отрицательный)."
   ]
  },
  {
   "cell_type": "markdown",
   "id": "bc3e5527-4b00-45f3-a416-edcb82184fb9",
   "metadata": {},
   "source": [
    "### 1. Подготовка данных."
   ]
  },
  {
   "cell_type": "markdown",
   "id": "a282c1b9-2a00-49a1-b741-ce2916f45027",
   "metadata": {},
   "source": [
    "Мы очистим текст отзывов и создадим метки:\n",
    "- Положительным отзывам присвоим метку 1.\n",
    "- Отрицательным отзывам присвоим метку 0.\n",
    "\n",
    "Затем преобразуем текст в числовой формат с использованием подхода Bag of Words (мешок слов) с помощью CountVectorizer."
   ]
  },
  {
   "cell_type": "code",
   "execution_count": 323,
   "id": "a270f927-504b-42e0-9c83-423c6a37993e",
   "metadata": {},
   "outputs": [
    {
     "name": "stdout",
     "output_type": "stream",
     "text": [
      "Данные уже существуют в папке: ./aclImdb\n"
     ]
    }
   ],
   "source": [
    "# Импортируем необходимые библиотеки\n",
    "import os\n",
    "import tarfile\n",
    "import urllib.request\n",
    "\n",
    "# Ссылка на набор данных IMDb\n",
    "url = \"https://ai.stanford.edu/~amaas/data/sentiment/aclImdb_v1.tar.gz\"\n",
    "dataset_folder = \"./aclImdb\"\n",
    "\n",
    "# Функция для загрузки и распаковки архива с данными\n",
    "def download_and_extract_data(url, dest_folder):\n",
    "    if not os.path.exists(dest_folder):\n",
    "        # Скачиваем архив\n",
    "        file_tmp = \"./aclImdb_v1.tar.gz\"\n",
    "        urllib.request.urlretrieve(url, file_tmp)\n",
    "        \n",
    "        # Распаковываем архив\n",
    "        with tarfile.open(file_tmp, \"r:gz\") as tar:\n",
    "            tar.extractall()\n",
    "        \n",
    "        # Удаляем временный файл\n",
    "        os.remove(file_tmp)\n",
    "        print(f\"Данные успешно загружены и распакованы в папку: {dest_folder}\")\n",
    "    else:\n",
    "        print(f\"Данные уже существуют в папке: {dest_folder}\")\n",
    "\n",
    "# Загружаем и распаковываем данные\n",
    "download_and_extract_data(url, dataset_folder)\n"
   ]
  },
  {
   "cell_type": "code",
   "execution_count": 325,
   "id": "307ecc88-a12c-4403-bd0f-db51931e05fa",
   "metadata": {},
   "outputs": [
    {
     "data": {
      "text/plain": [
       "(12500, 12500)"
      ]
     },
     "execution_count": 325,
     "metadata": {},
     "output_type": "execute_result"
    }
   ],
   "source": [
    "# Пути к директориям с положительными и отрицательными отзывами\n",
    "train_pos_dir = \"./aclImdb/train/pos/\"\n",
    "train_neg_dir = \"./aclImdb/train/neg/\"\n",
    "\n",
    "# Функция для загрузки отзывов из директории\n",
    "def load_reviews_from_dir(directory):\n",
    "    reviews = []\n",
    "    for filename in os.listdir(directory):\n",
    "        if filename.endswith(\".txt\"):\n",
    "            with open(os.path.join(directory, filename), \"r\", encoding=\"utf-8\") as file:\n",
    "                reviews.append(file.read())\n",
    "    return reviews\n",
    "\n",
    "# Загрузка положительных и отрицательных отзывов\n",
    "pos_reviews = load_reviews_from_dir(train_pos_dir)\n",
    "neg_reviews = load_reviews_from_dir(train_neg_dir)\n",
    "\n",
    "# Вывод количества загруженных отзывов\n",
    "len(pos_reviews), len(neg_reviews)\n"
   ]
  },
  {
   "cell_type": "markdown",
   "id": "1f30952e-dbbc-4422-8726-5bf1335a496f",
   "metadata": {},
   "source": [
    "### 2. Обучение модели."
   ]
  },
  {
   "cell_type": "markdown",
   "id": "f6a474cb-6387-444f-8b20-c510cd3e3d25",
   "metadata": {},
   "source": [
    "Для классификации отзывов используем Naive Bayes, который часто хорошо работает на задачах классификации текста. Мы также проверим качество модели на тестовой выборке.\n",
    "\n",
    "Шаги для выполнения:\n",
    "- Преобразование текста в числовые признаки с помощью CountVectorizer.\n",
    "- Обучение модели Naive Bayes с помощью библиотеки scikit-learn.\n",
    "- Оценка модели на тестовой выборке."
   ]
  },
  {
   "cell_type": "code",
   "execution_count": 328,
   "id": "d703b0c0-0fba-4afc-ba69-c0530b218c02",
   "metadata": {
    "scrolled": true
   },
   "outputs": [
    {
     "name": "stdout",
     "output_type": "stream",
     "text": [
      "Точность модели: 84.76%\n"
     ]
    }
   ],
   "source": [
    "from sklearn.model_selection import train_test_split\n",
    "from sklearn.feature_extraction.text import CountVectorizer\n",
    "from sklearn.naive_bayes import MultinomialNB\n",
    "from sklearn.metrics import accuracy_score\n",
    "\n",
    "# Метки для положительных и отрицательных отзывов\n",
    "labels_pos = [1] * len(pos_reviews)\n",
    "labels_neg = [0] * len(neg_reviews)\n",
    "\n",
    "# Объединяем положительные и отрицательные отзывы и метки\n",
    "all_reviews = pos_reviews + neg_reviews\n",
    "all_labels = labels_pos + labels_neg\n",
    "\n",
    "# Разделение данных на обучающую и тестовую выборки\n",
    "X_train, X_test, y_train, y_test = train_test_split(all_reviews, all_labels, test_size=0.2, random_state=42)\n",
    "\n",
    "# Преобразование текстовых данных в числовые признаки с помощью Bag of Words (CountVectorizer)\n",
    "vectorizer = CountVectorizer(stop_words='english', max_features=10000)\n",
    "X_train_vec = vectorizer.fit_transform(X_train)\n",
    "X_test_vec = vectorizer.transform(X_test)\n",
    "\n",
    "# Обучение модели Naive Bayes\n",
    "nb_model = MultinomialNB()\n",
    "nb_model.fit(X_train_vec, y_train)\n",
    "\n",
    "# Предсказания на тестовой выборке\n",
    "y_pred = nb_model.predict(X_test_vec)\n",
    "\n",
    "# Оценка точности модели\n",
    "accuracy = accuracy_score(y_test, y_pred)\n",
    "print(f\"Точность модели: {accuracy * 100:.2f}%\")\n"
   ]
  },
  {
   "cell_type": "markdown",
   "id": "8380dd50-b9a9-4382-a5a5-0c0e1b12b908",
   "metadata": {},
   "source": [
    "#### Точность модели в 84.76% означает, что модель правильно классифицирует отзывы (положительные или отрицательные) в 84.76% случаев на тестовой выборке. Это хороший показатель, особенно для задач обработки естественного языка, таких как классификация текстов."
   ]
  },
  {
   "cell_type": "markdown",
   "id": "80c27c3e-1e56-4505-928c-b51a2bf1dbfc",
   "metadata": {},
   "source": [
    "#### Для модели Naive Bayes с простым подходом Bag of Words такой уровень точности считается хорошим, так как это базовый алгоритм для текстовой классификации."
   ]
  },
  {
   "cell_type": "markdown",
   "id": "8f9cafed-4ac6-4979-b8db-c56ffc18abb6",
   "metadata": {},
   "source": [
    "### 3. Проверим модель на аналогичных отзывах на русском языке."
   ]
  },
  {
   "cell_type": "markdown",
   "id": "e95e960a-5790-4aca-acd2-b23af04f9481",
   "metadata": {},
   "source": [
    "Мы воспользуемся моделью, уже обученной на рецензиях IMDB. Для этого протестируем модель на датасете из 3000 записей, собранных с Кинопоиска. Выборка сбалансирована: содержится примерно по одной тысяче положительных, негативных и нейтральных отзывов (в датасете IMDB присутствуют только положительные и негативные отзывы)."
   ]
  },
  {
   "cell_type": "markdown",
   "id": "10c71114-9729-482a-a5ce-5592508ee36d",
   "metadata": {},
   "source": [
    "Для удобства работы возьмем готовый набор текстовых файлов, собранный в единый csv-файл (https://github.com/matyushkin/lessons/blob/master/nlp/nlp_datasets/kinopoisk.zip)."
   ]
  },
  {
   "cell_type": "markdown",
   "id": "c38f88b7-b20c-4b5c-b6cd-d1b1de980fea",
   "metadata": {},
   "source": [
    "##### 1. Подготовка данных:"
   ]
  },
  {
   "cell_type": "code",
   "execution_count": 335,
   "id": "2853705e-427f-4cf2-8b5c-f935abd3c3c0",
   "metadata": {},
   "outputs": [
    {
     "data": {
      "text/plain": [
       "['kt.csv']"
      ]
     },
     "execution_count": 335,
     "metadata": {},
     "output_type": "execute_result"
    }
   ],
   "source": [
    "import zipfile\n",
    "import os\n",
    "\n",
    "# Распаковка загруженного архива\n",
    "zip_file_path = 'kinopoisk.zip'\n",
    "extract_path = 'kinopoisk/'\n",
    "\n",
    "# Распаковка архива\n",
    "with zipfile.ZipFile(zip_file_path, 'r') as zip_ref:\n",
    "    zip_ref.extractall(extract_path)\n",
    "\n",
    "# Проверим содержимое папки после распаковки\n",
    "os.listdir(extract_path)"
   ]
  },
  {
   "cell_type": "code",
   "execution_count": 336,
   "id": "fd85ae7c-448d-4834-b848-27a7fd29e5af",
   "metadata": {},
   "outputs": [
    {
     "data": {
      "text/html": [
       "<div>\n",
       "<style scoped>\n",
       "    .dataframe tbody tr th:only-of-type {\n",
       "        vertical-align: middle;\n",
       "    }\n",
       "\n",
       "    .dataframe tbody tr th {\n",
       "        vertical-align: top;\n",
       "    }\n",
       "\n",
       "    .dataframe thead th {\n",
       "        text-align: right;\n",
       "    }\n",
       "</style>\n",
       "<table border=\"1\" class=\"dataframe\">\n",
       "  <thead>\n",
       "    <tr style=\"text-align: right;\">\n",
       "      <th></th>\n",
       "      <th>Unnamed: 0</th>\n",
       "      <th>review</th>\n",
       "      <th>translation</th>\n",
       "      <th>type</th>\n",
       "    </tr>\n",
       "  </thead>\n",
       "  <tbody>\n",
       "    <tr>\n",
       "      <th>0</th>\n",
       "      <td>0</td>\n",
       "      <td>Фильм сняли просто чудно. Disney на этот раз н...</td>\n",
       "      <td>The film was shot just wonderfully. Disney thi...</td>\n",
       "      <td>good</td>\n",
       "    </tr>\n",
       "    <tr>\n",
       "      <th>1</th>\n",
       "      <td>1</td>\n",
       "      <td>На самом деле, к фильму у меня было предубежде...</td>\n",
       "      <td>In fact, I had a bias towards the film. I thou...</td>\n",
       "      <td>good</td>\n",
       "    </tr>\n",
       "    <tr>\n",
       "      <th>2</th>\n",
       "      <td>2</td>\n",
       "      <td>Пожалуй нет ни одного увлеченного киномана, кт...</td>\n",
       "      <td>Perhaps there is not a single keen film fan wh...</td>\n",
       "      <td>good</td>\n",
       "    </tr>\n",
       "    <tr>\n",
       "      <th>3</th>\n",
       "      <td>3</td>\n",
       "      <td>Я обожаю старый мультфильм 'Красавица и чудови...</td>\n",
       "      <td>I love the old Beauty and the Beast cartoon. L...</td>\n",
       "      <td>good</td>\n",
       "    </tr>\n",
       "    <tr>\n",
       "      <th>4</th>\n",
       "      <td>4</td>\n",
       "      <td>Никогда не фанател от «Форсажа», для меня он в...</td>\n",
       "      <td>I have never been a fan of Fast and the Furiou...</td>\n",
       "      <td>good</td>\n",
       "    </tr>\n",
       "  </tbody>\n",
       "</table>\n",
       "</div>"
      ],
      "text/plain": [
       "   Unnamed: 0                                             review  \\\n",
       "0           0  Фильм сняли просто чудно. Disney на этот раз н...   \n",
       "1           1  На самом деле, к фильму у меня было предубежде...   \n",
       "2           2  Пожалуй нет ни одного увлеченного киномана, кт...   \n",
       "3           3  Я обожаю старый мультфильм 'Красавица и чудови...   \n",
       "4           4  Никогда не фанател от «Форсажа», для меня он в...   \n",
       "\n",
       "                                         translation  type  \n",
       "0  The film was shot just wonderfully. Disney thi...  good  \n",
       "1  In fact, I had a bias towards the film. I thou...  good  \n",
       "2  Perhaps there is not a single keen film fan wh...  good  \n",
       "3  I love the old Beauty and the Beast cartoon. L...  good  \n",
       "4  I have never been a fan of Fast and the Furiou...  good  "
      ]
     },
     "execution_count": 336,
     "metadata": {},
     "output_type": "execute_result"
    }
   ],
   "source": [
    "import pandas as pd\n",
    "\n",
    "# Загрузка файла\n",
    "csv_file_path = os.path.join(extract_path, 'kt.csv')\n",
    "data = pd.read_csv(csv_file_path)\n",
    "\n",
    "# Просмотр первых нескольких строк данных\n",
    "data.head()\n"
   ]
  },
  {
   "cell_type": "markdown",
   "id": "55c59682-b163-490f-a2b7-095a00528604",
   "metadata": {},
   "source": [
    "##### 2. Обработка данных и создание модели (токенизация и разделение данных на обучающую и тестовую выборки):"
   ]
  },
  {
   "cell_type": "code",
   "execution_count": 338,
   "id": "945787d1-8e82-4865-9be6-967c9136f44e",
   "metadata": {},
   "outputs": [
    {
     "data": {
      "text/html": [
       "<div>\n",
       "<style scoped>\n",
       "    .dataframe tbody tr th:only-of-type {\n",
       "        vertical-align: middle;\n",
       "    }\n",
       "\n",
       "    .dataframe tbody tr th {\n",
       "        vertical-align: top;\n",
       "    }\n",
       "\n",
       "    .dataframe thead th {\n",
       "        text-align: right;\n",
       "    }\n",
       "</style>\n",
       "<table border=\"1\" class=\"dataframe\">\n",
       "  <thead>\n",
       "    <tr style=\"text-align: right;\">\n",
       "      <th></th>\n",
       "      <th>review</th>\n",
       "      <th>label</th>\n",
       "    </tr>\n",
       "  </thead>\n",
       "  <tbody>\n",
       "    <tr>\n",
       "      <th>0</th>\n",
       "      <td>Фильм сняли просто чудно. Disney на этот раз н...</td>\n",
       "      <td>1</td>\n",
       "    </tr>\n",
       "    <tr>\n",
       "      <th>1</th>\n",
       "      <td>На самом деле, к фильму у меня было предубежде...</td>\n",
       "      <td>1</td>\n",
       "    </tr>\n",
       "    <tr>\n",
       "      <th>2</th>\n",
       "      <td>Пожалуй нет ни одного увлеченного киномана, кт...</td>\n",
       "      <td>1</td>\n",
       "    </tr>\n",
       "    <tr>\n",
       "      <th>3</th>\n",
       "      <td>Я обожаю старый мультфильм 'Красавица и чудови...</td>\n",
       "      <td>1</td>\n",
       "    </tr>\n",
       "    <tr>\n",
       "      <th>4</th>\n",
       "      <td>Никогда не фанател от «Форсажа», для меня он в...</td>\n",
       "      <td>1</td>\n",
       "    </tr>\n",
       "  </tbody>\n",
       "</table>\n",
       "</div>"
      ],
      "text/plain": [
       "                                              review  label\n",
       "0  Фильм сняли просто чудно. Disney на этот раз н...      1\n",
       "1  На самом деле, к фильму у меня было предубежде...      1\n",
       "2  Пожалуй нет ни одного увлеченного киномана, кт...      1\n",
       "3  Я обожаю старый мультфильм 'Красавица и чудови...      1\n",
       "4  Никогда не фанател от «Форсажа», для меня он в...      1"
      ]
     },
     "execution_count": 338,
     "metadata": {},
     "output_type": "execute_result"
    }
   ],
   "source": [
    "# Преобразуем метки\n",
    "label_mapping = {'good': 1, 'neutral': 0, 'bad': -1}\n",
    "data['label'] = data['type'].map(label_mapping)\n",
    "\n",
    "# Убираем ненужные столбцы для дальнейшего использования\n",
    "data_cleaned = data[['review', 'label']]\n",
    "\n",
    "# Проверим полученные данные\n",
    "data_cleaned.head()"
   ]
  },
  {
   "cell_type": "markdown",
   "id": "65ecf717-490c-4ebe-838f-8902f248cb79",
   "metadata": {},
   "source": [
    "##### 3. Оценка модели:"
   ]
  },
  {
   "cell_type": "code",
   "execution_count": 340,
   "id": "eb531b11-c01f-44b4-9c21-29ed61ffc868",
   "metadata": {},
   "outputs": [
    {
     "name": "stdout",
     "output_type": "stream",
     "text": [
      "Точность модели: 66.17%\n"
     ]
    }
   ],
   "source": [
    "from sklearn.model_selection import train_test_split\n",
    "from sklearn.feature_extraction.text import CountVectorizer\n",
    "from sklearn.naive_bayes import MultinomialNB\n",
    "from sklearn.metrics import accuracy_score\n",
    "\n",
    "# Разделение данных на обучающую и тестовую выборки\n",
    "X_train, X_test, y_train, y_test = train_test_split(data_cleaned['review'], data_cleaned['label'], test_size=0.2, random_state=42)\n",
    "\n",
    "# Преобразование текстовых данных в числовые признаки с помощью Bag of Words (CountVectorizer)\n",
    "vectorizer = CountVectorizer(stop_words='english', max_features=10000)\n",
    "X_train_vec = vectorizer.fit_transform(X_train)\n",
    "X_test_vec = vectorizer.transform(X_test)\n",
    "\n",
    "# Обучение модели Naive Bayes\n",
    "nb_model = MultinomialNB()\n",
    "nb_model.fit(X_train_vec, y_train)\n",
    "\n",
    "# Предсказания на тестовой выборке\n",
    "y_pred = nb_model.predict(X_test_vec)\n",
    "\n",
    "# Оценка точности модели\n",
    "accuracy = accuracy_score(y_test, y_pred)\n",
    "print(f\"Точность модели: {accuracy * 100:.2f}%\")"
   ]
  },
  {
   "cell_type": "markdown",
   "id": "1a53bf50-8d11-4523-8be9-4c5222775a09",
   "metadata": {},
   "source": [
    "#### Точность модели в 66.17% означает, что модель правильно классифицировала отзывы (положительные, нейтральные или негативные) в 66.17% случаев на тестовой выборке. Это ниже, чем 84.76% для набора данных aclImdb, и может указывать на несколько факторов, влияющих на производительность модели:\n",
    "- Точность — это доля правильных предсказаний из общего числа предсказаний. В данном случае это означает, что модель ошибается в более чем трети случаев.\n",
    "- Сложность задачи — классификация на три класса (положительные, нейтральные и негативные отзывы) может быть сложнее, чем бинарная классификация, что может объяснять более низкую точность.\n",
    "- Оценка других метрик — стоит также посмотреть на полноту (recall), точность (precision) и F-мера для более полной картины. Это особенно важно, если классы имеют разные уровни важности."
   ]
  },
  {
   "cell_type": "markdown",
   "id": "33bce547-ea80-45f5-b147-19674174c3bb",
   "metadata": {},
   "source": [
    "#### Таким образом, точность 66.17% указывает на необходимость доработки модели и ее компонентов для достижения более надежных результатов."
   ]
  }
 ],
 "metadata": {
  "kernelspec": {
   "display_name": "Python 3 (ipykernel)",
   "language": "python",
   "name": "python3"
  },
  "language_info": {
   "codemirror_mode": {
    "name": "ipython",
    "version": 3
   },
   "file_extension": ".py",
   "mimetype": "text/x-python",
   "name": "python",
   "nbconvert_exporter": "python",
   "pygments_lexer": "ipython3",
   "version": "3.12.4"
  }
 },
 "nbformat": 4,
 "nbformat_minor": 5
}
